{
 "cells": [
  {
   "cell_type": "markdown",
   "id": "4b9b8649",
   "metadata": {
    "_cell_guid": "0cc8e21b-9999-4f38-a39c-a2f6d6021464",
    "_kg_hide-input": false,
    "_uuid": "553402c4-c0ac-4531-85a5-acf988a43735",
    "id": "8U9XADPXvH5m",
    "papermill": {
     "duration": 0.006884,
     "end_time": "2024-10-13T22:08:38.593265",
     "exception": false,
     "start_time": "2024-10-13T22:08:38.586381",
     "status": "completed"
    },
    "tags": []
   },
   "source": [
    "# Poultry Disease Classification using ResNet-18, DenseNet121, and VGG16 in PyTorch\n",
    "\n",
    "<img src=\"https://www.venturagraininc.com/wp-content/uploads/2018/06/ThinkstockPhotos-478287121.jpg\" width=\"800\">\n",
    "\n",
    "## Overview\n",
    "\n",
    "This notebook implements a poultry disease classification system using **ResNet-18**, **DenseNet121**, and **VGG16** architectures in PyTorch. The goal is to accurately classify poultry diseases based on a curated dataset of fecal images. By comparing the performance of these three CNN models, we aim to determine which one performs best for this task.\n",
    "\n",
    "### Dataset Description\n",
    "\n",
    "The Poultry Pathology Visual Dataset contains a diverse collection of poultry fecal images categorized into four classes:\n",
    "- Coccidiosis\n",
    "- Healthy\n",
    "- Newcastle Disease\n",
    "- Salmonella\n",
    "\n",
    "### Key Steps\n",
    "\n",
    "1. **Data Loading and Preprocessing**: The dataset is loaded and preprocessed.\n",
    "2. **Model Definition**: ResNet-18, DenseNet121, and VGG16 architectures are defined and configured for poultry disease classification.\n",
    "3. **Model Training**: Each model is trained on the same training set.\n",
    "4. **Model Evaluation**: Models' performance is assessed on the test set.\n",
    "5. **Comparison of Results**: Graphs are used to compare the training process, accuracy, and loss for each model."
   ]
  },
  {
   "cell_type": "markdown",
   "id": "2a5fcf99",
   "metadata": {
    "_cell_guid": "e8f50a7a-cc36-4b7e-bd08-f3ba62b620e0",
    "_uuid": "48eeeaba-4db7-44a3-8e8e-58f62b13fc9c",
    "id": "RA0V_DAtvH5o",
    "papermill": {
     "duration": 0.005859,
     "end_time": "2024-10-13T22:08:38.605365",
     "exception": false,
     "start_time": "2024-10-13T22:08:38.599506",
     "status": "completed"
    },
    "tags": []
   },
   "source": [
    "## Step 1: Data Loading and Preparation\n",
    "\n",
    "We'll use the same data transformations and loaders across all three models to ensure a fair comparison."
   ]
  },
  {
   "cell_type": "code",
   "execution_count": 1,
   "id": "f4422fef",
   "metadata": {
    "_cell_guid": "31bca2ae-2086-4f78-ad1c-9fffa1a51985",
    "_uuid": "24524fe8-d2ec-4a14-8b08-0e826c01c455",
    "collapsed": false,
    "execution": {
     "iopub.execute_input": "2024-10-13T22:08:38.618793Z",
     "iopub.status.busy": "2024-10-13T22:08:38.618458Z",
     "iopub.status.idle": "2024-10-13T22:08:43.083944Z",
     "shell.execute_reply": "2024-10-13T22:08:43.082747Z"
    },
    "id": "OCPdwUKgvH5q",
    "jupyter": {
     "outputs_hidden": false
    },
    "papermill": {
     "duration": 4.475026,
     "end_time": "2024-10-13T22:08:43.086388",
     "exception": false,
     "start_time": "2024-10-13T22:08:38.611362",
     "status": "completed"
    },
    "tags": []
   },
   "outputs": [
    {
     "name": "stdout",
     "output_type": "stream",
     "text": [
      "Using 2 GPUs.\n"
     ]
    }
   ],
   "source": [
    "import os\n",
    "import numpy as np\n",
    "import torch\n",
    "import torchvision\n",
    "import torchvision.transforms as transforms\n",
    "import torch.nn as nn\n",
    "import torch.optim as optim\n",
    "from torch.utils.data import DataLoader\n",
    "from torch.optim import lr_scheduler\n",
    "from torchvision.models import resnet18, densenet121, vgg16\n",
    "from tqdm import tqdm\n",
    "import matplotlib.pyplot as plt\n",
    "import time\n",
    "\n",
    "# Check for GPU availability\n",
    "device = torch.device(\"cuda\" if torch.cuda.is_available() else \"cpu\")\n",
    "if torch.cuda.device_count() > 1:\n",
    "    print(f\"Using {torch.cuda.device_count()} GPUs.\")\n",
    "    # Model parallelism for multi-GPU setup\n",
    "    def model_parallel(model):\n",
    "        return torch.nn.DataParallel(model).to(device)\n",
    "else:\n",
    "    def model_parallel(model):\n",
    "        return model.to(device)"
   ]
  },
  {
   "cell_type": "markdown",
   "id": "c39e8b9e",
   "metadata": {
    "_cell_guid": "96807051-c838-4d34-b3f3-6df9fb0b1b0c",
    "_uuid": "39e67613-47d9-4874-a52a-5ab86015ffb3",
    "id": "Cnnc0V7DvH5s",
    "papermill": {
     "duration": 0.00657,
     "end_time": "2024-10-13T22:08:43.100937",
     "exception": false,
     "start_time": "2024-10-13T22:08:43.094367",
     "status": "completed"
    },
    "tags": []
   },
   "source": [
    "## Step 2: Data Loading and Preparation\n",
    "We will load and preprocess the dataset using transformations. These transformations include resizing the images to 224x224 and normalizing them."
   ]
  },
  {
   "cell_type": "code",
   "execution_count": 2,
   "id": "8d2a5ec7",
   "metadata": {
    "_cell_guid": "056a9244-a2d9-434d-83aa-83c7bcc43c79",
    "_uuid": "e2e3be93-f3cc-4781-a171-ade02c273a73",
    "collapsed": false,
    "execution": {
     "iopub.execute_input": "2024-10-13T22:08:43.115731Z",
     "iopub.status.busy": "2024-10-13T22:08:43.115263Z",
     "iopub.status.idle": "2024-10-13T22:18:20.661500Z",
     "shell.execute_reply": "2024-10-13T22:18:20.660593Z"
    },
    "id": "tFxKrAonvH5t",
    "jupyter": {
     "outputs_hidden": false
    },
    "papermill": {
     "duration": 577.562484,
     "end_time": "2024-10-13T22:18:20.670050",
     "exception": false,
     "start_time": "2024-10-13T22:08:43.107566",
     "status": "completed"
    },
    "tags": []
   },
   "outputs": [
    {
     "name": "stderr",
     "output_type": "stream",
     "text": [
      "/opt/conda/lib/python3.10/site-packages/torch/utils/data/dataloader.py:557: UserWarning: This DataLoader will create 6 worker processes in total. Our suggested max number of worker in current system is 4, which is smaller than what this DataLoader is going to create. Please be aware that excessive worker creation might get DataLoader running slow or even freeze, lower the worker number to avoid potential slowness/freeze if necessary.\n",
      "  warnings.warn(_create_warning_msg(\n"
     ]
    }
   ],
   "source": [
    "# Define transformations for the dataset\n",
    "data_transforms = transforms.Compose([\n",
    "    transforms.Resize((224, 224)),\n",
    "    transforms.ToTensor(),\n",
    "    transforms.Normalize(mean=[0.485, 0.456, 0.406], std=[0.229, 0.224, 0.225])\n",
    "])\n",
    "\n",
    "# Load the datasets (train, validation, test)\n",
    "batch_size = 64\n",
    "train_dataset = torchvision.datasets.ImageFolder(root='/kaggle/input/poultry-diseases/data/data/train', transform=data_transforms)\n",
    "val_dataset = torchvision.datasets.ImageFolder(root='/kaggle/input/poultry-diseases/data/data/val', transform=data_transforms)\n",
    "test_dataset = torchvision.datasets.ImageFolder(root='/kaggle/input/poultry-diseases/data/data/test', transform=data_transforms)\n",
    "\n",
    "train_loader = DataLoader(train_dataset, batch_size=batch_size, shuffle=True, num_workers=6, pin_memory=True)\n",
    "val_loader = DataLoader(val_dataset, batch_size=batch_size, shuffle=False, num_workers=6, pin_memory=True)\n",
    "test_loader = DataLoader(test_dataset, batch_size=batch_size, shuffle=False, num_workers=6, pin_memory=True)\n",
    "\n",
    "class_names = [\"Coccidiosis\", \"Healthy\", \"Newcastle Disease\", \"Salmonella\"]"
   ]
  },
  {
   "cell_type": "markdown",
   "id": "48850674",
   "metadata": {
    "_cell_guid": "c884b4c5-cab0-4763-a64b-86a734ded761",
    "_uuid": "7901af6f-36aa-443a-bac6-d9ba6fa6b436",
    "id": "ZydjpOtGvH5t",
    "papermill": {
     "duration": 0.005927,
     "end_time": "2024-10-13T22:18:20.682125",
     "exception": false,
     "start_time": "2024-10-13T22:18:20.676198",
     "status": "completed"
    },
    "tags": []
   },
   "source": [
    "## Step 3: Define Models\n",
    "\n",
    "We'll initialize three models: ResNet-18, DenseNet121, and VGG16. We'll modify their output layers to match the number of classes (4 classes in this dataset)."
   ]
  },
  {
   "cell_type": "code",
   "execution_count": 3,
   "id": "2364f7e1",
   "metadata": {
    "_cell_guid": "80930f8d-c8fa-4797-b651-19e5a644ff79",
    "_uuid": "054f47a3-d1ae-4a49-8d40-c155faeb131f",
    "collapsed": false,
    "execution": {
     "iopub.execute_input": "2024-10-13T22:18:20.695745Z",
     "iopub.status.busy": "2024-10-13T22:18:20.695399Z",
     "iopub.status.idle": "2024-10-13T22:18:26.762180Z",
     "shell.execute_reply": "2024-10-13T22:18:26.761182Z"
    },
    "id": "WJPsstHtvH5u",
    "jupyter": {
     "outputs_hidden": false
    },
    "papermill": {
     "duration": 6.07658,
     "end_time": "2024-10-13T22:18:26.764948",
     "exception": false,
     "start_time": "2024-10-13T22:18:20.688368",
     "status": "completed"
    },
    "tags": []
   },
   "outputs": [
    {
     "name": "stderr",
     "output_type": "stream",
     "text": [
      "/opt/conda/lib/python3.10/site-packages/torchvision/models/_utils.py:208: UserWarning: The parameter 'pretrained' is deprecated since 0.13 and may be removed in the future, please use 'weights' instead.\n",
      "  warnings.warn(\n",
      "/opt/conda/lib/python3.10/site-packages/torchvision/models/_utils.py:223: UserWarning: Arguments other than a weight enum or `None` for 'weights' are deprecated since 0.13 and may be removed in the future. The current behavior is equivalent to passing `weights=ResNet18_Weights.IMAGENET1K_V1`. You can also use `weights=ResNet18_Weights.DEFAULT` to get the most up-to-date weights.\n",
      "  warnings.warn(msg)\n",
      "Downloading: \"https://download.pytorch.org/models/resnet18-f37072fd.pth\" to /root/.cache/torch/hub/checkpoints/resnet18-f37072fd.pth\n",
      "100%|██████████| 44.7M/44.7M [00:00<00:00, 177MB/s]\n",
      "/opt/conda/lib/python3.10/site-packages/torchvision/models/_utils.py:223: UserWarning: Arguments other than a weight enum or `None` for 'weights' are deprecated since 0.13 and may be removed in the future. The current behavior is equivalent to passing `weights=DenseNet121_Weights.IMAGENET1K_V1`. You can also use `weights=DenseNet121_Weights.DEFAULT` to get the most up-to-date weights.\n",
      "  warnings.warn(msg)\n",
      "Downloading: \"https://download.pytorch.org/models/densenet121-a639ec97.pth\" to /root/.cache/torch/hub/checkpoints/densenet121-a639ec97.pth\n",
      "100%|██████████| 30.8M/30.8M [00:00<00:00, 146MB/s]\n",
      "/opt/conda/lib/python3.10/site-packages/torchvision/models/_utils.py:223: UserWarning: Arguments other than a weight enum or `None` for 'weights' are deprecated since 0.13 and may be removed in the future. The current behavior is equivalent to passing `weights=VGG16_Weights.IMAGENET1K_V1`. You can also use `weights=VGG16_Weights.DEFAULT` to get the most up-to-date weights.\n",
      "  warnings.warn(msg)\n",
      "Downloading: \"https://download.pytorch.org/models/vgg16-397923af.pth\" to /root/.cache/torch/hub/checkpoints/vgg16-397923af.pth\n",
      "100%|██████████| 528M/528M [00:02<00:00, 191MB/s]\n"
     ]
    }
   ],
   "source": [
    "# Define function to initialize models\n",
    "def initialize_model(model_name, num_classes):\n",
    "    if model_name == \"resnet18\":\n",
    "        model = resnet18(pretrained=True)\n",
    "        model.fc = nn.Linear(model.fc.in_features, num_classes)\n",
    "    elif model_name == \"densenet121\":\n",
    "        model = densenet121(pretrained=True)\n",
    "        model.classifier = nn.Linear(model.classifier.in_features, num_classes)\n",
    "    elif model_name == \"vgg16\":\n",
    "        model = vgg16(pretrained=True)\n",
    "        model.classifier[6] = nn.Linear(model.classifier[6].in_features, num_classes)\n",
    "    return model_parallel(model)  # Send model to GPU(s)\n",
    "\n",
    "# Initialize the models\n",
    "resnet_model = initialize_model(\"resnet18\", num_classes=4)\n",
    "densenet_model = initialize_model(\"densenet121\", num_classes=4)\n",
    "vgg_model = initialize_model(\"vgg16\", num_classes=4)"
   ]
  },
  {
   "cell_type": "markdown",
   "id": "354cb817",
   "metadata": {
    "_cell_guid": "9e2ffab1-2910-4fb9-9607-69b6a2404501",
    "_uuid": "35f8ee47-280b-480e-b1f9-582d8731b0ad",
    "id": "PnkGHgoIvH5x",
    "papermill": {
     "duration": 0.010819,
     "end_time": "2024-10-13T22:18:26.788206",
     "exception": false,
     "start_time": "2024-10-13T22:18:26.777387",
     "status": "completed"
    },
    "tags": []
   },
   "source": [
    "## Step 4: Define Optimizer, Loss Function, and Scheduler\n",
    "We will use the same optimizer, loss function, and learning rate scheduler for all models."
   ]
  },
  {
   "cell_type": "code",
   "execution_count": 4,
   "id": "4687ea65",
   "metadata": {
    "_cell_guid": "1857c145-503c-4c7a-899c-e41dc6859125",
    "_uuid": "7dc98947-dff5-4d4c-b1f8-4ee79559a7d2",
    "collapsed": false,
    "execution": {
     "iopub.execute_input": "2024-10-13T22:18:26.808948Z",
     "iopub.status.busy": "2024-10-13T22:18:26.808368Z",
     "iopub.status.idle": "2024-10-13T22:18:26.817659Z",
     "shell.execute_reply": "2024-10-13T22:18:26.816791Z"
    },
    "id": "7L2epwlUvH5y",
    "jupyter": {
     "outputs_hidden": false
    },
    "outputId": "96abff86-2dea-4bf7-9bce-948a429b2413",
    "papermill": {
     "duration": 0.021743,
     "end_time": "2024-10-13T22:18:26.819560",
     "exception": false,
     "start_time": "2024-10-13T22:18:26.797817",
     "status": "completed"
    },
    "tags": []
   },
   "outputs": [],
   "source": [
    "# Define loss function\n",
    "criterion = nn.CrossEntropyLoss()\n",
    "\n",
    "# Define optimizer and learning rate scheduler\n",
    "def get_optimizer(model):\n",
    "    optimizer = optim.AdamW(model.parameters(), lr=0.001, weight_decay=0.01)\n",
    "    scheduler = lr_scheduler.ReduceLROnPlateau(optimizer, 'min', patience=3, factor=0.2, min_lr=1e-5)\n",
    "    return optimizer, scheduler\n",
    "\n",
    "# Initialize optimizers and schedulers for each model\n",
    "resnet_optimizer, resnet_scheduler = get_optimizer(resnet_model)\n",
    "densenet_optimizer, densenet_scheduler = get_optimizer(densenet_model)\n",
    "vgg_optimizer, vgg_scheduler = get_optimizer(vgg_model)"
   ]
  },
  {
   "cell_type": "markdown",
   "id": "0fc85def",
   "metadata": {
    "_cell_guid": "1b2f01eb-aa1d-48a0-b0e1-919d9bde881f",
    "_uuid": "210ef4e0-8ef7-4104-a168-7e9ae654e7a3",
    "id": "TEmn16XZvH52",
    "papermill": {
     "duration": 0.009483,
     "end_time": "2024-10-13T22:18:26.838720",
     "exception": false,
     "start_time": "2024-10-13T22:18:26.829237",
     "status": "completed"
    },
    "tags": []
   },
   "source": [
    "## Step 5: Training Loop with Progress Bar\n",
    "We will now define the training loop, including progress bars for each epoch. This loop will train the models for 30 epochs and display the training progress for each batch."
   ]
  },
  {
   "cell_type": "code",
   "execution_count": 5,
   "id": "fbbf4ad6",
   "metadata": {
    "_cell_guid": "424f43fb-09cc-4caa-a0fa-96ce2ff298d5",
    "_uuid": "9d9dd1c1-78f6-4d07-b8e5-ec83a42298c8",
    "collapsed": false,
    "execution": {
     "iopub.execute_input": "2024-10-13T22:18:26.859767Z",
     "iopub.status.busy": "2024-10-13T22:18:26.859157Z",
     "iopub.status.idle": "2024-10-13T22:18:26.874743Z",
     "shell.execute_reply": "2024-10-13T22:18:26.873901Z"
    },
    "id": "PmOy0giBvH52",
    "jupyter": {
     "outputs_hidden": false
    },
    "papermill": {
     "duration": 0.028394,
     "end_time": "2024-10-13T22:18:26.876734",
     "exception": false,
     "start_time": "2024-10-13T22:18:26.848340",
     "status": "completed"
    },
    "tags": []
   },
   "outputs": [],
   "source": [
    "from torch.cuda.amp import autocast, GradScaler\n",
    "from tqdm import tqdm\n",
    "import os\n",
    "\n",
    "def train_model(model, optimizer, scheduler, train_loader, val_loader, model_name, num_epochs=30, accumulation_steps=4):\n",
    "    best_val_loss = float('inf')\n",
    "    history = {\"train_loss\": [], \"val_loss\": [], \"train_acc\": [], \"val_acc\": []}\n",
    "    scaler = GradScaler()  # For mixed precision training\n",
    "\n",
    "    # Directory to save models\n",
    "    save_dir = '/kaggle/working'\n",
    "    os.makedirs(save_dir, exist_ok=True)\n",
    "\n",
    "    for epoch in range(num_epochs):\n",
    "        model.train()\n",
    "        running_loss = 0.0\n",
    "        correct_train = 0\n",
    "        total_train = 0\n",
    "\n",
    "        print(f\"\\nEpoch {epoch+1}/{num_epochs}\")\n",
    "        \n",
    "        # Initialize progress bar for training\n",
    "        progress_bar = tqdm(total=len(train_loader), desc=f\"Training Epoch {epoch+1}/{num_epochs}\", position=0, leave=True)\n",
    "\n",
    "        # Zero the optimizer's gradients before accumulation starts\n",
    "        optimizer.zero_grad()\n",
    "\n",
    "        for batch_idx, (inputs, labels) in enumerate(train_loader):\n",
    "            inputs, labels = inputs.to(device), labels.to(device)\n",
    "\n",
    "            # Forward pass with mixed precision\n",
    "            with autocast():\n",
    "                outputs = model(inputs)\n",
    "                loss = criterion(outputs, labels) / accumulation_steps  # Normalize loss by accumulation steps\n",
    "\n",
    "            # Backward pass with gradient scaling\n",
    "            scaler.scale(loss).backward()\n",
    "\n",
    "            if (batch_idx + 1) % accumulation_steps == 0:\n",
    "                # Apply gradients after accumulating for `accumulation_steps` batches\n",
    "                scaler.step(optimizer)\n",
    "                scaler.update()\n",
    "                optimizer.zero_grad()  # Reset gradients\n",
    "\n",
    "            running_loss += loss.item() * accumulation_steps\n",
    "            _, predicted = torch.max(outputs.data, 1)\n",
    "            total_train += labels.size(0)\n",
    "            correct_train += (predicted == labels).sum().item()\n",
    "\n",
    "            # Update progress bar\n",
    "            progress_bar.update(1)\n",
    "            progress_bar.set_postfix({\"Batch Loss\": running_loss / (total_train / batch_size)})\n",
    "\n",
    "        # Close the progress bar after the epoch\n",
    "        progress_bar.close()\n",
    "\n",
    "        train_accuracy = 100 * correct_train / total_train\n",
    "\n",
    "        # Validation after each epoch\n",
    "        val_loss, val_accuracy = evaluate_model(model, val_loader)\n",
    "\n",
    "        # Save metrics for plotting\n",
    "        history[\"train_loss\"].append(running_loss / len(train_loader))\n",
    "        history[\"val_loss\"].append(val_loss)\n",
    "        history[\"train_acc\"].append(train_accuracy)\n",
    "        history[\"val_acc\"].append(val_accuracy)\n",
    "\n",
    "        # Update scheduler\n",
    "        scheduler.step(val_loss)\n",
    "\n",
    "        # Clear GPU cache after each epoch to free memory\n",
    "        torch.cuda.empty_cache()\n",
    "\n",
    "        # Save model checkpoint\n",
    "        model_save_path = os.path.join(save_dir, f\"{model_name}_epoch_{epoch+1}.pth\")\n",
    "        torch.save(model.state_dict(), model_save_path)\n",
    "        print(f\"Model saved at {model_save_path}\")\n",
    "\n",
    "        # Print epoch results and completion percentage\n",
    "        print(f\"Epoch {epoch+1}/{num_epochs} - Train Loss: {running_loss / len(train_loader):.4f}, Val Loss: {val_loss:.4f}, \"\n",
    "              f\"Train Acc: {train_accuracy:.2f}%, Val Acc: {val_accuracy:.2f}%\")\n",
    "\n",
    "    return history"
   ]
  },
  {
   "cell_type": "markdown",
   "id": "f6394385",
   "metadata": {
    "_cell_guid": "7bff9235-3c49-4ee9-8cf0-7e9b9bea9a94",
    "_uuid": "4c3d79f8-cbc0-4153-9776-48033be64293",
    "editable": true,
    "id": "Oc63vk5qvH53",
    "papermill": {
     "duration": 0.009668,
     "end_time": "2024-10-13T22:18:26.896239",
     "exception": false,
     "start_time": "2024-10-13T22:18:26.886571",
     "status": "completed"
    },
    "slideshow": {
     "slide_type": ""
    },
    "tags": []
   },
   "source": [
    "## Step 6: Evaluate Model Performance\n",
    "The evaluate_model function performs validation by calculating the loss and accuracy on the validation set."
   ]
  },
  {
   "cell_type": "code",
   "execution_count": 6,
   "id": "4f47f5d5",
   "metadata": {
    "_cell_guid": "c764bdf1-0cf9-414f-a451-010a82e9b36e",
    "_uuid": "00657f33-f306-4923-bc05-6abba4731f61",
    "collapsed": false,
    "execution": {
     "iopub.execute_input": "2024-10-13T22:18:26.917174Z",
     "iopub.status.busy": "2024-10-13T22:18:26.916796Z",
     "iopub.status.idle": "2024-10-13T22:18:26.923857Z",
     "shell.execute_reply": "2024-10-13T22:18:26.922983Z"
    },
    "id": "RmUVbXtfvH53",
    "jupyter": {
     "outputs_hidden": false
    },
    "papermill": {
     "duration": 0.019803,
     "end_time": "2024-10-13T22:18:26.925718",
     "exception": false,
     "start_time": "2024-10-13T22:18:26.905915",
     "status": "completed"
    },
    "tags": []
   },
   "outputs": [],
   "source": [
    "def evaluate_model(model, val_loader):\n",
    "    model.eval()\n",
    "    correct_val = 0\n",
    "    total_val = 0\n",
    "    val_loss = 0.0\n",
    "    with torch.no_grad():  # Disable gradient calculations for validation\n",
    "        for inputs, labels in val_loader:\n",
    "            inputs, labels = inputs.to(device), labels.to(device)\n",
    "            outputs = model(inputs)\n",
    "            loss = criterion(outputs, labels)\n",
    "            val_loss += loss.item()\n",
    "            _, predicted = torch.max(outputs.data, 1)\n",
    "            total_val += labels.size(0)\n",
    "            correct_val += (predicted == labels).sum().item()\n",
    "\n",
    "    val_accuracy = 100 * correct_val / total_val\n",
    "    return val_loss / len(val_loader), val_accuracy"
   ]
  },
  {
   "cell_type": "markdown",
   "id": "6055881d",
   "metadata": {
    "_cell_guid": "0bfb65d8-c2e9-4518-8be9-e999650d3b8a",
    "_uuid": "0c9235e3-9dd8-499d-8802-c8cb6acb2e89",
    "papermill": {
     "duration": 0.00939,
     "end_time": "2024-10-13T22:18:26.944897",
     "exception": false,
     "start_time": "2024-10-13T22:18:26.935507",
     "status": "completed"
    },
    "tags": []
   },
   "source": [
    "## Step 7: Train and Compare Models\n",
    "We will now train all three models and compare their training performance using the plot_metrics function."
   ]
  },
  {
   "cell_type": "code",
   "execution_count": 7,
   "id": "2f3eb734",
   "metadata": {
    "_cell_guid": "0cad05d1-a1cb-4f6b-b531-4b3be0e7717d",
    "_uuid": "f4272878-e703-4992-b449-a72903d4be18",
    "collapsed": false,
    "execution": {
     "iopub.execute_input": "2024-10-13T22:18:26.965709Z",
     "iopub.status.busy": "2024-10-13T22:18:26.965363Z",
     "iopub.status.idle": "2024-10-13T22:56:36.669663Z",
     "shell.execute_reply": "2024-10-13T22:56:36.668483Z"
    },
    "jupyter": {
     "outputs_hidden": false
    },
    "papermill": {
     "duration": 2292.353776,
     "end_time": "2024-10-13T22:56:39.308240",
     "exception": false,
     "start_time": "2024-10-13T22:18:26.954464",
     "status": "completed"
    },
    "tags": []
   },
   "outputs": [
    {
     "name": "stderr",
     "output_type": "stream",
     "text": [
      "/tmp/ipykernel_23/208636244.py:8: FutureWarning: `torch.cuda.amp.GradScaler(args...)` is deprecated. Please use `torch.amp.GradScaler('cuda', args...)` instead.\n",
      "  scaler = GradScaler()  # For mixed precision training\n"
     ]
    },
    {
     "name": "stdout",
     "output_type": "stream",
     "text": [
      "\n",
      "Epoch 1/3\n"
     ]
    },
    {
     "name": "stderr",
     "output_type": "stream",
     "text": [
      "Training Epoch 1/3:   0%|          | 0/6250 [00:00<?, ?it/s]/tmp/ipykernel_23/208636244.py:32: FutureWarning: `torch.cuda.amp.autocast(args...)` is deprecated. Please use `torch.amp.autocast('cuda', args...)` instead.\n",
      "  with autocast():\n",
      "/opt/conda/lib/python3.10/site-packages/torch/nn/parallel/parallel_apply.py:79: FutureWarning: `torch.cuda.amp.autocast(args...)` is deprecated. Please use `torch.amp.autocast('cuda', args...)` instead.\n",
      "  with torch.cuda.device(device), torch.cuda.stream(stream), autocast(enabled=autocast_enabled):\n",
      "Training Epoch 1/3: 100%|██████████| 6250/6250 [12:39<00:00,  8.23it/s, Batch Loss=0.284]\n"
     ]
    },
    {
     "name": "stdout",
     "output_type": "stream",
     "text": [
      "Model saved at /kaggle/working/resnet18_epoch_1.pth\n",
      "Epoch 1/3 - Train Loss: 0.2840, Val Loss: 0.2009, Train Acc: 89.37%, Val Acc: 92.52%\n",
      "\n",
      "Epoch 2/3\n"
     ]
    },
    {
     "name": "stderr",
     "output_type": "stream",
     "text": [
      "Training Epoch 2/3: 100%|██████████| 6250/6250 [11:14<00:00,  9.27it/s, Batch Loss=0.186]\n"
     ]
    },
    {
     "name": "stdout",
     "output_type": "stream",
     "text": [
      "Model saved at /kaggle/working/resnet18_epoch_2.pth\n",
      "Epoch 2/3 - Train Loss: 0.1858, Val Loss: 0.1770, Train Acc: 93.05%, Val Acc: 93.35%\n",
      "\n",
      "Epoch 3/3\n"
     ]
    },
    {
     "name": "stderr",
     "output_type": "stream",
     "text": [
      "Training Epoch 3/3: 100%|██████████| 6250/6250 [11:13<00:00,  9.28it/s, Batch Loss=0.149]\n"
     ]
    },
    {
     "name": "stdout",
     "output_type": "stream",
     "text": [
      "Model saved at /kaggle/working/resnet18_epoch_3.pth\n",
      "Epoch 3/3 - Train Loss: 0.1494, Val Loss: 0.1522, Train Acc: 94.40%, Val Acc: 94.38%\n",
      "Final ResNet model saved at /kaggle/working/resnet18_final.pth\n"
     ]
    }
   ],
   "source": [
    "# Train the models and capture their training history\n",
    "\n",
    "# Train ResNet model\n",
    "history_resnet = train_model(resnet_model, resnet_optimizer, resnet_scheduler, train_loader, val_loader, \"resnet18\", num_epochs=3)\n",
    "\n",
    "resnet_final_path = \"/kaggle/working/resnet18_final.pth\"\n",
    "torch.save(resnet_model.state_dict(), resnet_final_path)\n",
    "print(f\"Final ResNet model saved at {resnet_final_path}\")"
   ]
  },
  {
   "cell_type": "code",
   "execution_count": 8,
   "id": "7e85fdf2",
   "metadata": {
    "_cell_guid": "84df4050-11ef-461f-ac18-38205494b274",
    "_uuid": "7aabaab5-f7e2-4ed0-af1b-f5ae5da265b8",
    "collapsed": false,
    "execution": {
     "iopub.execute_input": "2024-10-13T22:56:44.703800Z",
     "iopub.status.busy": "2024-10-13T22:56:44.703394Z",
     "iopub.status.idle": "2024-10-14T01:00:21.555561Z",
     "shell.execute_reply": "2024-10-14T01:00:21.554415Z"
    },
    "jupyter": {
     "outputs_hidden": false
    },
    "papermill": {
     "duration": 7425.30778,
     "end_time": "2024-10-14T01:00:27.248682",
     "exception": false,
     "start_time": "2024-10-13T22:56:41.940902",
     "status": "completed"
    },
    "tags": []
   },
   "outputs": [
    {
     "name": "stderr",
     "output_type": "stream",
     "text": [
      "/tmp/ipykernel_23/208636244.py:8: FutureWarning: `torch.cuda.amp.GradScaler(args...)` is deprecated. Please use `torch.amp.GradScaler('cuda', args...)` instead.\n",
      "  scaler = GradScaler()  # For mixed precision training\n"
     ]
    },
    {
     "name": "stdout",
     "output_type": "stream",
     "text": [
      "\n",
      "Epoch 1/3\n"
     ]
    },
    {
     "name": "stderr",
     "output_type": "stream",
     "text": [
      "Training Epoch 1/3:   0%|          | 0/6250 [00:00<?, ?it/s]/tmp/ipykernel_23/208636244.py:32: FutureWarning: `torch.cuda.amp.autocast(args...)` is deprecated. Please use `torch.amp.autocast('cuda', args...)` instead.\n",
      "  with autocast():\n",
      "Training Epoch 1/3: 100%|██████████| 6250/6250 [39:14<00:00,  2.65it/s, Batch Loss=0.243]\n"
     ]
    },
    {
     "name": "stdout",
     "output_type": "stream",
     "text": [
      "Model saved at /kaggle/working/densenet121_epoch_1.pth\n",
      "Epoch 1/3 - Train Loss: 0.2432, Val Loss: 0.1620, Train Acc: 90.97%, Val Acc: 93.94%\n",
      "\n",
      "Epoch 2/3\n"
     ]
    },
    {
     "name": "stderr",
     "output_type": "stream",
     "text": [
      "Training Epoch 2/3: 100%|██████████| 6250/6250 [39:12<00:00,  2.66it/s, Batch Loss=0.161]\n"
     ]
    },
    {
     "name": "stdout",
     "output_type": "stream",
     "text": [
      "Model saved at /kaggle/working/densenet121_epoch_2.pth\n",
      "Epoch 2/3 - Train Loss: 0.1605, Val Loss: 0.1447, Train Acc: 94.06%, Val Acc: 94.53%\n",
      "\n",
      "Epoch 3/3\n"
     ]
    },
    {
     "name": "stderr",
     "output_type": "stream",
     "text": [
      "Training Epoch 3/3: 100%|██████████| 6250/6250 [39:18<00:00,  2.65it/s, Batch Loss=0.132]\n"
     ]
    },
    {
     "name": "stdout",
     "output_type": "stream",
     "text": [
      "Model saved at /kaggle/working/densenet121_epoch_3.pth\n",
      "Epoch 3/3 - Train Loss: 0.1324, Val Loss: 0.1287, Train Acc: 95.10%, Val Acc: 95.21%\n",
      "Final DenseNet model saved at /kaggle/working/densenet121_final.pth\n"
     ]
    }
   ],
   "source": [
    "# Train DenseNet model\n",
    "history_densenet = train_model(densenet_model, densenet_optimizer, densenet_scheduler, train_loader, val_loader, \"densenet121\", num_epochs=3)\n",
    "densenet_final_path = \"/kaggle/working/densenet121_final.pth\"\n",
    "torch.save(densenet_model.state_dict(), densenet_final_path)\n",
    "print(f\"Final DenseNet model saved at {densenet_final_path}\")"
   ]
  },
  {
   "cell_type": "code",
   "execution_count": 9,
   "id": "109a6195",
   "metadata": {
    "_cell_guid": "2fdf56b4-8797-4c46-a55f-e8d73d1540dc",
    "_uuid": "7386aed4-9d9c-4f72-aa5a-d807ca3f7762",
    "collapsed": false,
    "execution": {
     "iopub.execute_input": "2024-10-14T01:00:38.837273Z",
     "iopub.status.busy": "2024-10-14T01:00:38.836845Z",
     "iopub.status.idle": "2024-10-14T02:54:15.839479Z",
     "shell.execute_reply": "2024-10-14T02:54:15.838410Z"
    },
    "jupyter": {
     "outputs_hidden": false
    },
    "papermill": {
     "duration": 6831.129321,
     "end_time": "2024-10-14T02:54:24.192234",
     "exception": false,
     "start_time": "2024-10-14T01:00:33.062913",
     "status": "completed"
    },
    "tags": []
   },
   "outputs": [
    {
     "name": "stderr",
     "output_type": "stream",
     "text": [
      "/tmp/ipykernel_23/208636244.py:8: FutureWarning: `torch.cuda.amp.GradScaler(args...)` is deprecated. Please use `torch.amp.GradScaler('cuda', args...)` instead.\n",
      "  scaler = GradScaler()  # For mixed precision training\n"
     ]
    },
    {
     "name": "stdout",
     "output_type": "stream",
     "text": [
      "\n",
      "Epoch 1/3\n"
     ]
    },
    {
     "name": "stderr",
     "output_type": "stream",
     "text": [
      "Training Epoch 1/3:   0%|          | 0/6250 [00:00<?, ?it/s]/tmp/ipykernel_23/208636244.py:32: FutureWarning: `torch.cuda.amp.autocast(args...)` is deprecated. Please use `torch.amp.autocast('cuda', args...)` instead.\n",
      "  with autocast():\n",
      "Training Epoch 1/3: 100%|██████████| 6250/6250 [35:46<00:00,  2.91it/s, Batch Loss=0.704]\n"
     ]
    },
    {
     "name": "stdout",
     "output_type": "stream",
     "text": [
      "Model saved at /kaggle/working/vgg16_epoch_1.pth\n",
      "Epoch 1/3 - Train Loss: 0.7038, Val Loss: 0.4687, Train Acc: 71.44%, Val Acc: 81.09%\n",
      "\n",
      "Epoch 2/3\n"
     ]
    },
    {
     "name": "stderr",
     "output_type": "stream",
     "text": [
      "Training Epoch 2/3: 100%|██████████| 6250/6250 [35:41<00:00,  2.92it/s, Batch Loss=0.4]\n"
     ]
    },
    {
     "name": "stdout",
     "output_type": "stream",
     "text": [
      "Model saved at /kaggle/working/vgg16_epoch_2.pth\n",
      "Epoch 2/3 - Train Loss: 0.3997, Val Loss: 0.3680, Train Acc: 84.96%, Val Acc: 86.59%\n",
      "\n",
      "Epoch 3/3\n"
     ]
    },
    {
     "name": "stderr",
     "output_type": "stream",
     "text": [
      "Training Epoch 3/3: 100%|██████████| 6250/6250 [35:39<00:00,  2.92it/s, Batch Loss=0.338]\n"
     ]
    },
    {
     "name": "stdout",
     "output_type": "stream",
     "text": [
      "Model saved at /kaggle/working/vgg16_epoch_3.pth\n",
      "Epoch 3/3 - Train Loss: 0.3376, Val Loss: 0.3385, Train Acc: 87.47%, Val Acc: 87.46%\n",
      "Final VGG model saved at /kaggle/working/vgg16_final.pth\n"
     ]
    }
   ],
   "source": [
    "# Train VGG model\n",
    "history_vgg = train_model(vgg_model, vgg_optimizer, vgg_scheduler, train_loader, val_loader, \"vgg16\", num_epochs=3)\n",
    "vgg_final_path = \"/kaggle/working/vgg16_final.pth\"\n",
    "torch.save(vgg_model.state_dict(), vgg_final_path)\n",
    "print(f\"Final VGG model saved at {vgg_final_path}\")"
   ]
  },
  {
   "cell_type": "code",
   "execution_count": 10,
   "id": "581e210a",
   "metadata": {
    "_cell_guid": "3f1c67f0-ddb0-4ac1-aff9-dc405eaa7cbd",
    "_uuid": "678a2ac2-2000-4a90-9212-f3ad08697630",
    "collapsed": false,
    "execution": {
     "iopub.execute_input": "2024-10-14T02:54:41.799626Z",
     "iopub.status.busy": "2024-10-14T02:54:41.798780Z",
     "iopub.status.idle": "2024-10-14T02:54:42.615384Z",
     "shell.execute_reply": "2024-10-14T02:54:42.614447Z"
    },
    "jupyter": {
     "outputs_hidden": false
    },
    "papermill": {
     "duration": 9.616827,
     "end_time": "2024-10-14T02:54:42.618576",
     "exception": false,
     "start_time": "2024-10-14T02:54:33.001749",
     "status": "completed"
    },
    "tags": []
   },
   "outputs": [
    {
     "data": {
      "image/png": "[encoded data removed]",
      "text/plain": [
       "<Figure size 1400x1000 with 2 Axes>"
      ]
     },
     "metadata": {},
     "output_type": "display_data"
    }
   ],
   "source": [
    "# Plot the metrics for comparison\n",
    "def plot_metrics(history_resnet, history_densenet, history_vgg):\n",
    "    epochs = range(1, len(history_resnet[\"train_loss\"]) + 1)\n",
    "\n",
    "    plt.figure(figsize=(14, 10))\n",
    "\n",
    "    # Loss plot\n",
    "    plt.subplot(2, 1, 1)\n",
    "    plt.plot(epochs, history_resnet[\"train_loss\"], label='ResNet Train Loss')\n",
    "    plt.plot(epochs, history_resnet[\"val_loss\"], label='ResNet Val Loss')\n",
    "    plt.plot(epochs, history_densenet[\"train_loss\"], label='DenseNet Train Loss')\n",
    "    plt.plot(epochs, history_densenet[\"val_loss\"], label='DenseNet Val Loss')\n",
    "    plt.plot(epochs, history_vgg[\"train_loss\"], label='VGG Train Loss')\n",
    "    plt.plot(epochs, history_vgg[\"val_loss\"], label='VGG Val Loss')\n",
    "    plt.title('Training and Validation Loss')\n",
    "    plt.xlabel('Epochs')\n",
    "    plt.ylabel('Loss')\n",
    "    plt.legend()\n",
    "\n",
    "    # Accuracy plot\n",
    "    plt.subplot(2, 1, 2)\n",
    "    plt.plot(epochs, history_resnet[\"train_acc\"], label='ResNet Train Acc')\n",
    "    plt.plot(epochs, history_resnet[\"val_acc\"], label='ResNet Val Acc')\n",
    "    plt.plot(epochs, history_densenet[\"train_acc\"], label='DenseNet Train Acc')\n",
    "    plt.plot(epochs, history_densenet[\"val_acc\"], label='DenseNet Val Acc')\n",
    "    plt.plot(epochs, history_vgg[\"train_acc\"], label='VGG Train Acc')\n",
    "    plt.plot(epochs, history_vgg[\"val_acc\"], label='VGG Val Acc')\n",
    "    plt.title('Training and Validation Accuracy')\n",
    "    plt.xlabel('Epochs')\n",
    "    plt.ylabel('Accuracy')\n",
    "    plt.legend()\n",
    "\n",
    "    plt.tight_layout()\n",
    "    plt.show()\n",
    "\n",
    "# Call the function to plot results\n",
    "plot_metrics(history_resnet, history_densenet, history_vgg)"
   ]
  },
  {
   "cell_type": "markdown",
   "id": "0f16bf35",
   "metadata": {
    "_cell_guid": "05519e8c-e7de-45ae-b233-b5736c7a86e4",
    "_uuid": "91220821-c6c0-4fe4-8b1a-d05059bcfcae",
    "papermill": {
     "duration": 8.934291,
     "end_time": "2024-10-14T02:55:00.472365",
     "exception": false,
     "start_time": "2024-10-14T02:54:51.538074",
     "status": "completed"
    },
    "tags": []
   },
   "source": [
    "## Step 8: Test the Models\n",
    "Finally, we will evaluate each trained model on the test dataset."
   ]
  },
  {
   "cell_type": "code",
   "execution_count": 11,
   "id": "c85b1142",
   "metadata": {
    "_cell_guid": "9a9c32cb-f0b3-42f2-bb24-50e2b5c970cd",
    "_uuid": "a4e7126e-94e0-43c7-b243-052aa1811d48",
    "collapsed": false,
    "execution": {
     "iopub.execute_input": "2024-10-14T02:55:18.097918Z",
     "iopub.status.busy": "2024-10-14T02:55:18.097539Z",
     "iopub.status.idle": "2024-10-14T03:05:23.984494Z",
     "shell.execute_reply": "2024-10-14T03:05:23.983383Z"
    },
    "jupyter": {
     "outputs_hidden": false
    },
    "papermill": {
     "duration": 623.502582,
     "end_time": "2024-10-14T03:05:32.815434",
     "exception": false,
     "start_time": "2024-10-14T02:55:09.312852",
     "status": "completed"
    },
    "tags": []
   },
   "outputs": [
    {
     "name": "stdout",
     "output_type": "stream",
     "text": [
      "Test Loss: 0.1510, Test Accuracy: 94.38%\n",
      "Test Loss: 0.1273, Test Accuracy: 95.29%\n",
      "Test Loss: 0.3380, Test Accuracy: 87.48%\n"
     ]
    }
   ],
   "source": [
    "def test_model(model):\n",
    "    model.eval()\n",
    "    correct_test = 0\n",
    "    total_test = 0\n",
    "    test_loss = 0.0\n",
    "    with torch.no_grad():\n",
    "        for inputs, labels in test_loader:\n",
    "            inputs, labels = inputs.to(device), labels.to(device)\n",
    "            outputs = model(inputs)\n",
    "            loss = criterion(outputs, labels)\n",
    "            test_loss += loss.item()\n",
    "            _, predicted = torch.max(outputs.data, 1)\n",
    "            total_test += labels.size(0)\n",
    "            correct_test += (predicted == labels).sum().item()\n",
    "\n",
    "    test_accuracy = 100 * correct_test / total_test\n",
    "    print(f\"Test Loss: {test_loss/len(test_loader):.4f}, Test Accuracy: {test_accuracy:.2f}%\")\n",
    "    return test_loss / len(test_loader), test_accuracy\n",
    "\n",
    "# Evaluate the models on test set\n",
    "test_resnet = test_model(resnet_model)\n",
    "test_densenet = test_model(densenet_model)\n",
    "test_vgg = test_model(vgg_model)"
   ]
  },
  {
   "cell_type": "markdown",
   "id": "088d3ef8",
   "metadata": {
    "_cell_guid": "c4699ec7-56e1-4651-8327-ab58824f4a9a",
    "_uuid": "5fcfd614-0816-4a4a-b123-2966e339ed23",
    "id": "z2HGnQ8GvH54",
    "papermill": {
     "duration": 8.741315,
     "end_time": "2024-10-14T03:05:50.346948",
     "exception": false,
     "start_time": "2024-10-14T03:05:41.605633",
     "status": "completed"
    },
    "tags": []
   },
   "source": [
    "## Conclusion\n",
    "\n",
    "This notebook demonstrates how to compare the performance of three popular CNN architectures (ResNet-18, DenseNet121, and VGG16) on poultry disease classification. After training, we use visualizations to compare the models and test them on unseen data to determine which model provides the highest accuracy."
   ]
  }
 ],
 "metadata": {
  "colab": {
   "name": "Poultry Disease Classification model compared",
   "provenance": []
  },
  "kaggle": {
   "accelerator": "nvidiaTeslaT4",
   "dataSources": [
    {
     "datasetId": 3951043,
     "sourceId": 6934176,
     "sourceType": "datasetVersion"
    }
   ],
   "dockerImageVersionId": 30787,
   "isGpuEnabled": true,
   "isInternetEnabled": true,
   "language": "python",
   "sourceType": "notebook"
  },
  "kernelspec": {
   "display_name": "Python 3",
   "language": "python",
   "name": "python3"
  },
  "language_info": {
   "codemirror_mode": {
    "name": "ipython",
    "version": 3
   },
   "file_extension": ".py",
   "mimetype": "text/x-python",
   "name": "python",
   "nbconvert_exporter": "python",
   "pygments_lexer": "ipython3",
   "version": "3.10.14"
  },
  "papermill": {
   "default_parameters": {},
   "duration": 17845.27462,
   "end_time": "2024-10-14T03:06:01.235687",
   "environment_variables": {},
   "exception": null,
   "input_path": "__notebook__.ipynb",
   "output_path": "__notebook__.ipynb",
   "parameters": {},
   "start_time": "2024-10-13T22:08:35.961067",
   "version": "2.6.0"
  }
 },
 "nbformat": 4,
 "nbformat_minor": 5
}
